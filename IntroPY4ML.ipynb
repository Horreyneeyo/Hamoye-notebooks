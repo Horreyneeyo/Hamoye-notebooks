{
 "cells": [
  {
   "cell_type": "code",
   "execution_count": 16,
   "metadata": {},
   "outputs": [
    {
     "name": "stdout",
     "output_type": "stream",
     "text": [
      "(3, 3)\n"
     ]
    }
   ],
   "source": [
    "b = np.array([[1,2,3],[4,5,6],[7,8,9]])\n",
    "print(b.shape)"
   ]
  },
  {
   "cell_type": "code",
   "execution_count": null,
   "metadata": {},
   "outputs": [],
   "source": []
  },
  {
   "cell_type": "code",
   "execution_count": 24,
   "metadata": {},
   "outputs": [],
   "source": [
    "c= np.random.random((3,3))"
   ]
  },
  {
   "cell_type": "code",
   "execution_count": 26,
   "metadata": {},
   "outputs": [
    {
     "data": {
      "text/plain": [
       "array([[0.03302546, 1.03258954, 1.46316212],\n",
       "       [2.78905243, 0.78969158, 1.7520266 ],\n",
       "       [1.086647  , 4.42450369, 0.44574566]])"
      ]
     },
     "execution_count": 26,
     "metadata": {},
     "output_type": "execute_result"
    }
   ],
   "source": [
    "c*b"
   ]
  },
  {
   "cell_type": "code",
   "execution_count": 29,
   "metadata": {},
   "outputs": [
    {
     "data": {
      "text/plain": [
       "array([0.69726311, 0.15793832])"
      ]
     },
     "execution_count": 29,
     "metadata": {},
     "output_type": "execute_result"
    }
   ],
   "source": [
    "c[1,0:2]"
   ]
  },
  {
   "cell_type": "code",
   "execution_count": 38,
   "metadata": {},
   "outputs": [
    {
     "name": "stdout",
     "output_type": "stream",
     "text": [
      "a       Monday\n",
      "b      Tuesday\n",
      "c    Wednesday\n",
      "dtype: object\n",
      "a       Monday\n",
      "b      Tuesday\n",
      "c    Wednesday\n",
      "dtype: object\n"
     ]
    }
   ],
   "source": [
    "import pandas as pd\n",
    "days=pd.Series(['Monday', 'Tuesday', 'Wednesday'], index=['a','b','c'])\n",
    "print(days)\n",
    "refined_list = pd.Series({'a':'Monday', 'b':'Tuesday', 'c':'Wednesday'})\n",
    "print(refined_list)"
   ]
  },
  {
   "cell_type": "code",
   "execution_count": 44,
   "metadata": {},
   "outputs": [
    {
     "data": {
      "text/plain": [
       "b      Tuesday\n",
       "c    Wednesday\n",
       "dtype: object"
      ]
     },
     "execution_count": 44,
     "metadata": {},
     "output_type": "execute_result"
    }
   ],
   "source": [
    "refined_list[1:3]"
   ]
  },
  {
   "cell_type": "code",
   "execution_count": 45,
   "metadata": {},
   "outputs": [
    {
     "name": "stdout",
     "output_type": "stream",
     "text": [
      "Empty DataFrame\n",
      "Columns: []\n",
      "Index: []\n"
     ]
    }
   ],
   "source": [
    "print(pd.DataFrame())"
   ]
  },
  {
   "cell_type": "code",
   "execution_count": 34,
   "metadata": {},
   "outputs": [
    {
     "name": "stdout",
     "output_type": "stream",
     "text": [
      "['Monday' 'Tuesday' 'Wednesday']\n"
     ]
    },
    {
     "data": {
      "text/plain": [
       "0       Monday\n",
       "1      Tuesday\n",
       "2    Wednesday\n",
       "dtype: object"
      ]
     },
     "execution_count": 34,
     "metadata": {},
     "output_type": "execute_result"
    }
   ],
   "source": [
    "days_list = np.array(['Monday', 'Tuesday','Wednesday'])\n",
    "print(days_list)\n",
    "gen_list=pd.Series(days_list)\n",
    "gen_list"
   ]
  },
  {
   "cell_type": "code",
   "execution_count": 121,
   "metadata": {},
   "outputs": [
    {
     "data": {
      "text/plain": [
       "Age\n",
       "45    45\n",
       "50    50\n",
       "57    57\n",
       "65    65\n",
       "Name: Age, dtype: int64"
      ]
     },
     "execution_count": 121,
     "metadata": {},
     "output_type": "execute_result"
    }
   ],
   "source": [
    "df_dict = {'Country': ['Ghana', 'Kenya', 'Nigeria', 'Togo'], 'Capital': ['Accra', 'Nairobi', 'Abuja', 'Lome'],\n",
    "          'Population': [34, 15, 240, 9],\n",
    "          'Age': [57, 65, 45, 50]}\n",
    "df = pd.DataFrame(df_dict, index=[1,2,3,4])\n"
   ]
  },
  {
   "cell_type": "code",
   "execution_count": 81,
   "metadata": {},
   "outputs": [
    {
     "data": {
      "text/plain": [
       "Population    24.5\n",
       "Age           53.5\n",
       "Name: 50%, dtype: float64"
      ]
     },
     "execution_count": 81,
     "metadata": {},
     "output_type": "execute_result"
    }
   ],
   "source": [
    "cat = df.describe()\n",
    "cat.iloc[5]"
   ]
  },
  {
   "cell_type": "code",
   "execution_count": 84,
   "metadata": {},
   "outputs": [
    {
     "data": {
      "text/html": [
       "<div>\n",
       "<style scoped>\n",
       "    .dataframe tbody tr th:only-of-type {\n",
       "        vertical-align: middle;\n",
       "    }\n",
       "\n",
       "    .dataframe tbody tr th {\n",
       "        vertical-align: top;\n",
       "    }\n",
       "\n",
       "    .dataframe thead th {\n",
       "        text-align: right;\n",
       "    }\n",
       "</style>\n",
       "<table border=\"1\" class=\"dataframe\">\n",
       "  <thead>\n",
       "    <tr style=\"text-align: right;\">\n",
       "      <th></th>\n",
       "      <th>Name</th>\n",
       "      <th>Profession</th>\n",
       "      <th>Experience</th>\n",
       "      <th>Height</th>\n",
       "    </tr>\n",
       "  </thead>\n",
       "  <tbody>\n",
       "    <tr>\n",
       "      <td>a</td>\n",
       "      <td>James</td>\n",
       "      <td>Researcher</td>\n",
       "      <td>12.0</td>\n",
       "      <td>NaN</td>\n",
       "    </tr>\n",
       "    <tr>\n",
       "      <td>b</td>\n",
       "      <td>Yemen</td>\n",
       "      <td>Artist</td>\n",
       "      <td>NaN</td>\n",
       "      <td>175.0</td>\n",
       "    </tr>\n",
       "    <tr>\n",
       "      <td>c</td>\n",
       "      <td>Caro</td>\n",
       "      <td>Doctor</td>\n",
       "      <td>10.0</td>\n",
       "      <td>180.0</td>\n",
       "    </tr>\n",
       "    <tr>\n",
       "      <td>d</td>\n",
       "      <td>NaN</td>\n",
       "      <td>Writer</td>\n",
       "      <td>8.0</td>\n",
       "      <td>150.0</td>\n",
       "    </tr>\n",
       "  </tbody>\n",
       "</table>\n",
       "</div>"
      ],
      "text/plain": [
       "    Name  Profession  Experience  Height\n",
       "a  James  Researcher        12.0     NaN\n",
       "b  Yemen      Artist         NaN   175.0\n",
       "c   Caro      Doctor        10.0   180.0\n",
       "d    NaN      Writer         8.0   150.0"
      ]
     },
     "execution_count": 84,
     "metadata": {},
     "output_type": "execute_result"
    }
   ],
   "source": [
    "df_dict2 = {'Name': ['James', 'Yemen', 'Caro', np.nan], 'Profession': ['Researcher', 'Artist', 'Doctor', 'Writer'],\n",
    "           'Experience': [12, np.nan, 10, 8],\n",
    "           'Height': [np.nan, 175, 180, 150]}\n",
    "\n",
    "new_df=pd.DataFrame(df_dict2, index=['a', 'b', 'c', 'd'])\n",
    "new_df"
   ]
  },
  {
   "cell_type": "code",
   "execution_count": 87,
   "metadata": {},
   "outputs": [],
   "source": [
    "df_dict3 = [['James', 'Researcher', 12.0, np.nan], ['Yemen', 'Artist', np.nan, 175.0],\n",
    "            ['Caro', 'Doctor', 10.0, 180.0],\n",
    "            [np.nan, 'Writer', 8.0, 150.0]]\n"
   ]
  },
  {
   "cell_type": "code",
   "execution_count": 88,
   "metadata": {},
   "outputs": [
    {
     "data": {
      "text/html": [
       "<div>\n",
       "<style scoped>\n",
       "    .dataframe tbody tr th:only-of-type {\n",
       "        vertical-align: middle;\n",
       "    }\n",
       "\n",
       "    .dataframe tbody tr th {\n",
       "        vertical-align: top;\n",
       "    }\n",
       "\n",
       "    .dataframe thead th {\n",
       "        text-align: right;\n",
       "    }\n",
       "</style>\n",
       "<table border=\"1\" class=\"dataframe\">\n",
       "  <thead>\n",
       "    <tr style=\"text-align: right;\">\n",
       "      <th></th>\n",
       "      <th>Name</th>\n",
       "      <th>Profession</th>\n",
       "      <th>Experience</th>\n",
       "      <th>Height</th>\n",
       "    </tr>\n",
       "  </thead>\n",
       "  <tbody>\n",
       "    <tr>\n",
       "      <td>a</td>\n",
       "      <td>James</td>\n",
       "      <td>Researcher</td>\n",
       "      <td>12.0</td>\n",
       "      <td>NaN</td>\n",
       "    </tr>\n",
       "    <tr>\n",
       "      <td>b</td>\n",
       "      <td>Yemen</td>\n",
       "      <td>Artist</td>\n",
       "      <td>NaN</td>\n",
       "      <td>175.0</td>\n",
       "    </tr>\n",
       "    <tr>\n",
       "      <td>c</td>\n",
       "      <td>Caro</td>\n",
       "      <td>Doctor</td>\n",
       "      <td>10.0</td>\n",
       "      <td>180.0</td>\n",
       "    </tr>\n",
       "    <tr>\n",
       "      <td>d</td>\n",
       "      <td>NaN</td>\n",
       "      <td>Writer</td>\n",
       "      <td>8.0</td>\n",
       "      <td>150.0</td>\n",
       "    </tr>\n",
       "  </tbody>\n",
       "</table>\n",
       "</div>"
      ],
      "text/plain": [
       "    Name  Profession  Experience  Height\n",
       "a  James  Researcher        12.0     NaN\n",
       "b  Yemen      Artist         NaN   175.0\n",
       "c   Caro      Doctor        10.0   180.0\n",
       "d    NaN      Writer         8.0   150.0"
      ]
     },
     "execution_count": 88,
     "metadata": {},
     "output_type": "execute_result"
    }
   ],
   "source": [
    "newest_df = pd.DataFrame(df_dict3, columns=['Name', 'Profession', 'Experience', 'Height'], index=['a', 'b', 'c', 'd'])\n",
    "newest_df"
   ]
  },
  {
   "cell_type": "code",
   "execution_count": 117,
   "metadata": {},
   "outputs": [
    {
     "data": {
      "text/plain": [
       "<pandas.core.groupby.generic.DataFrameGroupBy object at 0x00000207B718A8C8>"
      ]
     },
     "execution_count": 117,
     "metadata": {},
     "output_type": "execute_result"
    }
   ],
   "source": [
    "newest_df.groupby('Profession')"
   ]
  },
  {
   "cell_type": "code",
   "execution_count": 92,
   "metadata": {},
   "outputs": [
    {
     "data": {
      "text/html": [
       "<div>\n",
       "<style scoped>\n",
       "    .dataframe tbody tr th:only-of-type {\n",
       "        vertical-align: middle;\n",
       "    }\n",
       "\n",
       "    .dataframe tbody tr th {\n",
       "        vertical-align: top;\n",
       "    }\n",
       "\n",
       "    .dataframe thead th {\n",
       "        text-align: right;\n",
       "    }\n",
       "</style>\n",
       "<table border=\"1\" class=\"dataframe\">\n",
       "  <thead>\n",
       "    <tr style=\"text-align: right;\">\n",
       "      <th></th>\n",
       "      <th>Name</th>\n",
       "      <th>Profession</th>\n",
       "      <th>Experience</th>\n",
       "      <th>Height</th>\n",
       "    </tr>\n",
       "  </thead>\n",
       "  <tbody>\n",
       "    <tr>\n",
       "      <td>a</td>\n",
       "      <td>True</td>\n",
       "      <td>True</td>\n",
       "      <td>True</td>\n",
       "      <td>False</td>\n",
       "    </tr>\n",
       "    <tr>\n",
       "      <td>b</td>\n",
       "      <td>True</td>\n",
       "      <td>True</td>\n",
       "      <td>False</td>\n",
       "      <td>True</td>\n",
       "    </tr>\n",
       "    <tr>\n",
       "      <td>c</td>\n",
       "      <td>True</td>\n",
       "      <td>True</td>\n",
       "      <td>True</td>\n",
       "      <td>True</td>\n",
       "    </tr>\n",
       "    <tr>\n",
       "      <td>d</td>\n",
       "      <td>False</td>\n",
       "      <td>True</td>\n",
       "      <td>True</td>\n",
       "      <td>True</td>\n",
       "    </tr>\n",
       "  </tbody>\n",
       "</table>\n",
       "</div>"
      ],
      "text/plain": [
       "    Name  Profession  Experience  Height\n",
       "a   True        True        True   False\n",
       "b   True        True       False    True\n",
       "c   True        True        True    True\n",
       "d  False        True        True    True"
      ]
     },
     "execution_count": 92,
     "metadata": {},
     "output_type": "execute_result"
    }
   ],
   "source": [
    "newest_df.notnull()"
   ]
  },
  {
   "cell_type": "code",
   "execution_count": 178,
   "metadata": {},
   "outputs": [
    {
     "data": {
      "text/html": [
       "<div>\n",
       "<style scoped>\n",
       "    .dataframe tbody tr th:only-of-type {\n",
       "        vertical-align: middle;\n",
       "    }\n",
       "\n",
       "    .dataframe tbody tr th {\n",
       "        vertical-align: top;\n",
       "    }\n",
       "\n",
       "    .dataframe thead th {\n",
       "        text-align: right;\n",
       "    }\n",
       "</style>\n",
       "<table border=\"1\" class=\"dataframe\">\n",
       "  <thead>\n",
       "    <tr style=\"text-align: right;\">\n",
       "      <th></th>\n",
       "      <th>utility_id_ferc1</th>\n",
       "      <th>report_year</th>\n",
       "      <th>fuel_qty_burned</th>\n",
       "      <th>fuel_mmbtu_per_unit</th>\n",
       "      <th>fuel_cost_per_unit_burned</th>\n",
       "      <th>fuel_cost_per_unit_delivered</th>\n",
       "      <th>fuel_cost_per_mmbtu</th>\n",
       "    </tr>\n",
       "  </thead>\n",
       "  <tbody>\n",
       "    <tr>\n",
       "      <td>count</td>\n",
       "      <td>29523.000000</td>\n",
       "      <td>29523.000000</td>\n",
       "      <td>2.952300e+04</td>\n",
       "      <td>29523.000000</td>\n",
       "      <td>29523.000000</td>\n",
       "      <td>2.952300e+04</td>\n",
       "      <td>29523.000000</td>\n",
       "    </tr>\n",
       "    <tr>\n",
       "      <td>mean</td>\n",
       "      <td>118.601836</td>\n",
       "      <td>2005.806050</td>\n",
       "      <td>2.622119e+06</td>\n",
       "      <td>8.492111</td>\n",
       "      <td>208.649031</td>\n",
       "      <td>9.175704e+02</td>\n",
       "      <td>19.304354</td>\n",
       "    </tr>\n",
       "    <tr>\n",
       "      <td>std</td>\n",
       "      <td>74.178353</td>\n",
       "      <td>7.025483</td>\n",
       "      <td>9.118004e+06</td>\n",
       "      <td>10.600220</td>\n",
       "      <td>2854.490090</td>\n",
       "      <td>6.877593e+04</td>\n",
       "      <td>2091.540939</td>\n",
       "    </tr>\n",
       "    <tr>\n",
       "      <td>min</td>\n",
       "      <td>1.000000</td>\n",
       "      <td>1994.000000</td>\n",
       "      <td>1.000000e+00</td>\n",
       "      <td>0.000001</td>\n",
       "      <td>-276.080000</td>\n",
       "      <td>-8.749370e+02</td>\n",
       "      <td>-41.501000</td>\n",
       "    </tr>\n",
       "    <tr>\n",
       "      <td>25%</td>\n",
       "      <td>55.000000</td>\n",
       "      <td>2000.000000</td>\n",
       "      <td>1.381700e+04</td>\n",
       "      <td>1.024000</td>\n",
       "      <td>5.207000</td>\n",
       "      <td>3.778500e+00</td>\n",
       "      <td>1.940000</td>\n",
       "    </tr>\n",
       "    <tr>\n",
       "      <td>50%</td>\n",
       "      <td>122.000000</td>\n",
       "      <td>2006.000000</td>\n",
       "      <td>2.533220e+05</td>\n",
       "      <td>5.762694</td>\n",
       "      <td>26.000000</td>\n",
       "      <td>1.737100e+01</td>\n",
       "      <td>4.127000</td>\n",
       "    </tr>\n",
       "    <tr>\n",
       "      <td>75%</td>\n",
       "      <td>176.000000</td>\n",
       "      <td>2012.000000</td>\n",
       "      <td>1.424034e+06</td>\n",
       "      <td>17.006000</td>\n",
       "      <td>47.113000</td>\n",
       "      <td>4.213700e+01</td>\n",
       "      <td>7.745000</td>\n",
       "    </tr>\n",
       "    <tr>\n",
       "      <td>max</td>\n",
       "      <td>514.000000</td>\n",
       "      <td>2018.000000</td>\n",
       "      <td>5.558942e+08</td>\n",
       "      <td>341.260000</td>\n",
       "      <td>139358.000000</td>\n",
       "      <td>7.964521e+06</td>\n",
       "      <td>359278.000000</td>\n",
       "    </tr>\n",
       "  </tbody>\n",
       "</table>\n",
       "</div>"
      ],
      "text/plain": [
       "       utility_id_ferc1   report_year  fuel_qty_burned  fuel_mmbtu_per_unit  \\\n",
       "count      29523.000000  29523.000000     2.952300e+04         29523.000000   \n",
       "mean         118.601836   2005.806050     2.622119e+06             8.492111   \n",
       "std           74.178353      7.025483     9.118004e+06            10.600220   \n",
       "min            1.000000   1994.000000     1.000000e+00             0.000001   \n",
       "25%           55.000000   2000.000000     1.381700e+04             1.024000   \n",
       "50%          122.000000   2006.000000     2.533220e+05             5.762694   \n",
       "75%          176.000000   2012.000000     1.424034e+06            17.006000   \n",
       "max          514.000000   2018.000000     5.558942e+08           341.260000   \n",
       "\n",
       "       fuel_cost_per_unit_burned  fuel_cost_per_unit_delivered  \\\n",
       "count               29523.000000                  2.952300e+04   \n",
       "mean                  208.649031                  9.175704e+02   \n",
       "std                  2854.490090                  6.877593e+04   \n",
       "min                  -276.080000                 -8.749370e+02   \n",
       "25%                     5.207000                  3.778500e+00   \n",
       "50%                    26.000000                  1.737100e+01   \n",
       "75%                    47.113000                  4.213700e+01   \n",
       "max                139358.000000                  7.964521e+06   \n",
       "\n",
       "       fuel_cost_per_mmbtu  \n",
       "count         29523.000000  \n",
       "mean             19.304354  \n",
       "std            2091.540939  \n",
       "min             -41.501000  \n",
       "25%               1.940000  \n",
       "50%               4.127000  \n",
       "75%               7.745000  \n",
       "max          359278.000000  "
      ]
     },
     "execution_count": 178,
     "metadata": {},
     "output_type": "execute_result"
    }
   ],
   "source": [
    "url='https://github.com/WalePhenomenon/climate_change/blob/master/fuel_ferc1.csv?raw=true'\n",
    "fuel_data=pd.read_csv(url, error_bad_lines=False)\n",
    "fuel_data.describe()"
   ]
  },
  {
   "cell_type": "code",
   "execution_count": 187,
   "metadata": {},
   "outputs": [
    {
     "data": {
      "text/plain": [
       "15.851495469109503"
      ]
     },
     "execution_count": 187,
     "metadata": {},
     "output_type": "execute_result"
    }
   ],
   "source": [
    "fuel_data['fuel_qty_burned'].skew()"
   ]
  },
  {
   "cell_type": "code",
   "execution_count": null,
   "metadata": {},
   "outputs": [],
   "source": [
    "import matplotlib.pyplot as plt\n",
    "import seaborn as sns\n",
    "\n",
    "plt.figure(figsize=(7,4))\n",
    "plt.xticks(rotation=90)\n",
    "fuel_unit=pd.DataFrame({'unit': ['BBL', 'GAL', 'GRAMSU', 'KGU', 'MCF', 'MMBTU', 'MWDTH', 'MWHTH', 'TON'],\n",
    "                       'count': [7998,84,464,110,11354,180,95,100,8958]})\n",
    "sns.barplot(data=fuel_unit, x='unit', y='count')\n",
    "plt.xlabel('Fuel Unit')"
   ]
  },
  {
   "cell_type": "code",
   "execution_count": null,
   "metadata": {},
   "outputs": [],
   "source": [
    "sns.barplot(data=fuel_data, x='', y='count')\n",
    "plt.xlabel('Fuel Unit')"
   ]
  },
  {
   "cell_type": "code",
   "execution_count": 210,
   "metadata": {},
   "outputs": [
    {
     "data": {
      "text/plain": [
       "8148113.675211049"
      ]
     },
     "execution_count": 210,
     "metadata": {},
     "output_type": "execute_result"
    }
   ],
   "source": [
    "fuel_data['fuel_cost_per_unit_burned'].var()"
   ]
  },
  {
   "cell_type": "code",
   "execution_count": 209,
   "metadata": {},
   "outputs": [
    {
     "data": {
      "text/plain": [
       "4730127905.461287"
      ]
     },
     "execution_count": 209,
     "metadata": {},
     "output_type": "execute_result"
    }
   ],
   "source": [
    "fuel_data['fuel_cost_per_unit_delivered'].var()"
   ]
  },
  {
   "cell_type": "code",
   "execution_count": 208,
   "metadata": {},
   "outputs": [
    {
     "data": {
      "text/plain": [
       "5502.42810719124"
      ]
     },
     "execution_count": 208,
     "metadata": {},
     "output_type": "execute_result"
    }
   ],
   "source": [
    "fuel_data['utility_id_ferc1'].var()"
   ]
  },
  {
   "cell_type": "code",
   "execution_count": 207,
   "metadata": {},
   "outputs": [
    {
     "data": {
      "text/plain": [
       "112.36467057404153"
      ]
     },
     "execution_count": 207,
     "metadata": {},
     "output_type": "execute_result"
    }
   ],
   "source": [
    "fuel_data['fuel_mmbtu_per_unit'].var()"
   ]
  },
  {
   "cell_type": "code",
   "execution_count": 206,
   "metadata": {},
   "outputs": [
    {
     "data": {
      "text/plain": [
       "83137988310375.34"
      ]
     },
     "execution_count": 206,
     "metadata": {},
     "output_type": "execute_result"
    }
   ],
   "source": [
    "fuel_data['fuel_qty_burned'].var()"
   ]
  },
  {
   "cell_type": "code",
   "execution_count": 176,
   "metadata": {},
   "outputs": [
    {
     "data": {
      "text/plain": [
       "record_id                       0\n",
       "utility_id_ferc1                0\n",
       "report_year                     0\n",
       "plant_name_ferc1                0\n",
       "fuel_type_code_pudl             0\n",
       "fuel_unit                       0\n",
       "fuel_qty_burned                 0\n",
       "fuel_mmbtu_per_unit             0\n",
       "fuel_cost_per_unit_burned       0\n",
       "fuel_cost_per_unit_delivered    0\n",
       "fuel_cost_per_mmbtu             0\n",
       "dtype: int64"
      ]
     },
     "execution_count": 176,
     "metadata": {},
     "output_type": "execute_result"
    }
   ],
   "source": [
    "fuel_data.isnull().sum()"
   ]
  },
  {
   "cell_type": "code",
   "execution_count": 177,
   "metadata": {},
   "outputs": [
    {
     "data": {
      "text/plain": [
       "record_id                       0\n",
       "utility_id_ferc1                0\n",
       "report_year                     0\n",
       "plant_name_ferc1                0\n",
       "fuel_type_code_pudl             0\n",
       "fuel_unit                       0\n",
       "fuel_qty_burned                 0\n",
       "fuel_mmbtu_per_unit             0\n",
       "fuel_cost_per_unit_burned       0\n",
       "fuel_cost_per_unit_delivered    0\n",
       "fuel_cost_per_mmbtu             0\n",
       "dtype: int64"
      ]
     },
     "execution_count": 177,
     "metadata": {},
     "output_type": "execute_result"
    }
   ],
   "source": [
    "fuel_data.isnull().sum()"
   ]
  },
  {
   "cell_type": "code",
   "execution_count": 115,
   "metadata": {},
   "outputs": [
    {
     "data": {
      "text/plain": [
       "record_id                       0\n",
       "utility_id_ferc1                0\n",
       "report_year                     0\n",
       "plant_name_ferc1                0\n",
       "fuel_type_code_pudl             0\n",
       "fuel_unit                       0\n",
       "fuel_qty_burned                 0\n",
       "fuel_mmbtu_per_unit             0\n",
       "fuel_cost_per_unit_burned       0\n",
       "fuel_cost_per_unit_delivered    0\n",
       "fuel_cost_per_mmbtu             0\n",
       "dtype: int64"
      ]
     },
     "execution_count": 115,
     "metadata": {},
     "output_type": "execute_result"
    }
   ],
   "source": [
    "fuel_data.groupby('fuel_unit')['fuel_unit'].count()\n",
    "fuel_data[['fuel_unit']]=fuel_data[['fuel_unit']].fillna(value='mcf')\n",
    "fuel_data.isnull().sum()"
   ]
  },
  {
   "cell_type": "code",
   "execution_count": 200,
   "metadata": {},
   "outputs": [
    {
     "data": {
      "text/plain": [
       "report_year\n",
       "1994    1235\n",
       "1995    1201\n",
       "1996    1088\n",
       "1997    1094\n",
       "1998    1107\n",
       "1999    1050\n",
       "2000    1373\n",
       "2001    1356\n",
       "2002    1205\n",
       "2003    1211\n",
       "2004    1192\n",
       "2005    1269\n",
       "2006    1243\n",
       "2007    1264\n",
       "2008    1228\n",
       "2009    1222\n",
       "2010    1261\n",
       "2011    1240\n",
       "2012    1243\n",
       "2013    1199\n",
       "2014    1171\n",
       "2015    1093\n",
       "2016    1034\n",
       "2017     993\n",
       "2018     951\n",
       "Name: fuel_cost_per_unit_burned, dtype: int64"
      ]
     },
     "execution_count": 200,
     "metadata": {},
     "output_type": "execute_result"
    }
   ],
   "source": [
    "fuel_data.groupby('report_year')['fuel_cost_per_unit_burned'].count()"
   ]
  },
  {
   "cell_type": "code",
   "execution_count": 124,
   "metadata": {},
   "outputs": [
    {
     "data": {
      "text/html": [
       "<div>\n",
       "<style scoped>\n",
       "    .dataframe tbody tr th:only-of-type {\n",
       "        vertical-align: middle;\n",
       "    }\n",
       "\n",
       "    .dataframe tbody tr th {\n",
       "        vertical-align: top;\n",
       "    }\n",
       "\n",
       "    .dataframe thead th {\n",
       "        text-align: right;\n",
       "    }\n",
       "</style>\n",
       "<table border=\"1\" class=\"dataframe\">\n",
       "  <thead>\n",
       "    <tr style=\"text-align: right;\">\n",
       "      <th></th>\n",
       "      <th>record_id</th>\n",
       "      <th>utility_id_ferc1</th>\n",
       "      <th>report_year</th>\n",
       "      <th>plant_name_ferc1</th>\n",
       "      <th>fuel_unit</th>\n",
       "      <th>fuel_qty_burned</th>\n",
       "      <th>fuel_mmbtu_per_unit</th>\n",
       "      <th>fuel_cost_per_unit_burned</th>\n",
       "      <th>fuel_cost_per_unit_delivered</th>\n",
       "      <th>fuel_cost_per_mmbtu</th>\n",
       "    </tr>\n",
       "    <tr>\n",
       "      <th>fuel_type_code_pudl</th>\n",
       "      <th></th>\n",
       "      <th></th>\n",
       "      <th></th>\n",
       "      <th></th>\n",
       "      <th></th>\n",
       "      <th></th>\n",
       "      <th></th>\n",
       "      <th></th>\n",
       "      <th></th>\n",
       "      <th></th>\n",
       "    </tr>\n",
       "  </thead>\n",
       "  <tbody>\n",
       "    <tr>\n",
       "      <td>coal</td>\n",
       "      <td>f1_fuel_1994_12_1_0_7</td>\n",
       "      <td>1</td>\n",
       "      <td>1994</td>\n",
       "      <td>rockport</td>\n",
       "      <td>ton</td>\n",
       "      <td>5377489.0</td>\n",
       "      <td>16.590000</td>\n",
       "      <td>18.590</td>\n",
       "      <td>18.530</td>\n",
       "      <td>1.121</td>\n",
       "    </tr>\n",
       "    <tr>\n",
       "      <td>gas</td>\n",
       "      <td>f1_fuel_1994_12_2_0_10</td>\n",
       "      <td>2</td>\n",
       "      <td>1994</td>\n",
       "      <td>chickasaw</td>\n",
       "      <td>mcf</td>\n",
       "      <td>40533.0</td>\n",
       "      <td>1.000000</td>\n",
       "      <td>2.770</td>\n",
       "      <td>2.770</td>\n",
       "      <td>2.570</td>\n",
       "    </tr>\n",
       "    <tr>\n",
       "      <td>nuclear</td>\n",
       "      <td>f1_fuel_1994_12_2_1_1</td>\n",
       "      <td>2</td>\n",
       "      <td>1994</td>\n",
       "      <td>joseph m. farley</td>\n",
       "      <td>kgU</td>\n",
       "      <td>2260.0</td>\n",
       "      <td>0.064094</td>\n",
       "      <td>28.770</td>\n",
       "      <td>0.000</td>\n",
       "      <td>0.450</td>\n",
       "    </tr>\n",
       "    <tr>\n",
       "      <td>oil</td>\n",
       "      <td>f1_fuel_1994_12_6_0_2</td>\n",
       "      <td>6</td>\n",
       "      <td>1994</td>\n",
       "      <td>clinch river</td>\n",
       "      <td>bbl</td>\n",
       "      <td>6510.0</td>\n",
       "      <td>5.875338</td>\n",
       "      <td>32.130</td>\n",
       "      <td>23.444</td>\n",
       "      <td>5.469</td>\n",
       "    </tr>\n",
       "    <tr>\n",
       "      <td>other</td>\n",
       "      <td>f1_fuel_1994_12_11_0_6</td>\n",
       "      <td>11</td>\n",
       "      <td>1994</td>\n",
       "      <td>w.f. wyman</td>\n",
       "      <td>bbl</td>\n",
       "      <td>55652.0</td>\n",
       "      <td>0.149719</td>\n",
       "      <td>14.685</td>\n",
       "      <td>15.090</td>\n",
       "      <td>2.335</td>\n",
       "    </tr>\n",
       "    <tr>\n",
       "      <td>waste</td>\n",
       "      <td>f1_fuel_1994_12_9_0_3</td>\n",
       "      <td>9</td>\n",
       "      <td>1994</td>\n",
       "      <td>b.l. england</td>\n",
       "      <td>ton</td>\n",
       "      <td>2438.0</td>\n",
       "      <td>0.015939</td>\n",
       "      <td>34.180</td>\n",
       "      <td>34.180</td>\n",
       "      <td>1.072</td>\n",
       "    </tr>\n",
       "  </tbody>\n",
       "</table>\n",
       "</div>"
      ],
      "text/plain": [
       "                                  record_id  utility_id_ferc1  report_year  \\\n",
       "fuel_type_code_pudl                                                          \n",
       "coal                  f1_fuel_1994_12_1_0_7                 1         1994   \n",
       "gas                  f1_fuel_1994_12_2_0_10                 2         1994   \n",
       "nuclear               f1_fuel_1994_12_2_1_1                 2         1994   \n",
       "oil                   f1_fuel_1994_12_6_0_2                 6         1994   \n",
       "other                f1_fuel_1994_12_11_0_6                11         1994   \n",
       "waste                 f1_fuel_1994_12_9_0_3                 9         1994   \n",
       "\n",
       "                     plant_name_ferc1 fuel_unit  fuel_qty_burned  \\\n",
       "fuel_type_code_pudl                                                \n",
       "coal                         rockport       ton        5377489.0   \n",
       "gas                         chickasaw       mcf          40533.0   \n",
       "nuclear              joseph m. farley       kgU           2260.0   \n",
       "oil                      clinch river       bbl           6510.0   \n",
       "other                      w.f. wyman       bbl          55652.0   \n",
       "waste                    b.l. england       ton           2438.0   \n",
       "\n",
       "                     fuel_mmbtu_per_unit  fuel_cost_per_unit_burned  \\\n",
       "fuel_type_code_pudl                                                   \n",
       "coal                           16.590000                     18.590   \n",
       "gas                             1.000000                      2.770   \n",
       "nuclear                         0.064094                     28.770   \n",
       "oil                             5.875338                     32.130   \n",
       "other                           0.149719                     14.685   \n",
       "waste                           0.015939                     34.180   \n",
       "\n",
       "                     fuel_cost_per_unit_delivered  fuel_cost_per_mmbtu  \n",
       "fuel_type_code_pudl                                                     \n",
       "coal                                       18.530                1.121  \n",
       "gas                                         2.770                2.570  \n",
       "nuclear                                     0.000                0.450  \n",
       "oil                                        23.444                5.469  \n",
       "other                                      15.090                2.335  \n",
       "waste                                      34.180                1.072  "
      ]
     },
     "execution_count": 124,
     "metadata": {},
     "output_type": "execute_result"
    }
   ],
   "source": [
    "fuel_data.groupby('fuel_type_code_pudl').first()"
   ]
  },
  {
   "cell_type": "code",
   "execution_count": 125,
   "metadata": {},
   "outputs": [
    {
     "data": {
      "text/plain": [
       "False"
      ]
     },
     "execution_count": 125,
     "metadata": {},
     "output_type": "execute_result"
    }
   ],
   "source": [
    "fuel_data.duplicated().any()"
   ]
  },
  {
   "cell_type": "code",
   "execution_count": 127,
   "metadata": {
    "scrolled": true
   },
   "outputs": [
    {
     "data": {
      "text/plain": [
       "Text(0.5, 0, 'Fuel Unit')"
      ]
     },
     "execution_count": 127,
     "metadata": {},
     "output_type": "execute_result"
    },
    {
     "data": {
      "image/png": "[encoded data removed]",
      "text/plain": [
       "<Figure size 504x288 with 1 Axes>"
      ]
     },
     "metadata": {
      "needs_background": "light"
     },
     "output_type": "display_data"
    }
   ],
   "source": [
    "import matplotlib.pyplot as plt\n",
    "import seaborn as sns\n",
    "\n",
    "plt.figure(figsize=(7,4))\n",
    "plt.xticks(rotation=90)\n",
    "fuel_unit=pd.DataFrame({'unit': ['BBL', 'GAL', 'GRAMSU', 'KGU', 'MCF', 'MMBTU', 'MWDTH', 'MWHTH', 'TON'],\n",
    "                       'count': [7998,84,464,110,11354,180,95,100,8958]})\n",
    "sns.barplot(data=fuel_unit, x='unit', y='count')\n",
    "plt.xlabel('Fuel Unit')"
   ]
  },
  {
   "cell_type": "code",
   "execution_count": 128,
   "metadata": {},
   "outputs": [
    {
     "data": {
      "text/plain": [
       "Text(0.5, 0, 'Fuel Unit')"
      ]
     },
     "execution_count": 128,
     "metadata": {},
     "output_type": "execute_result"
    },
    {
     "data": {
      "image/png": "[encoded data removed]",
      "text/plain": [
       "<Figure size 432x288 with 1 Axes>"
      ]
     },
     "metadata": {
      "needs_background": "light"
     },
     "output_type": "display_data"
    }
   ],
   "source": [
    "g = sns.barplot(data=fuel_unit, x='unit', y='count')\n",
    "g.set_yscale('log')\n",
    "g.set_ylim(1,12000)\n",
    "plt.xlabel('Fuel Unit')"
   ]
  },
  {
   "cell_type": "code",
   "execution_count": 131,
   "metadata": {},
   "outputs": [
    {
     "data": {
      "text/plain": [
       "<matplotlib.axes._subplots.AxesSubplot at 0x207b91fc708>"
      ]
     },
     "execution_count": 131,
     "metadata": {},
     "output_type": "execute_result"
    },
    {
     "data": {
      "image/png": "[encoded data removed]",
      "text/plain": [
       "<Figure size 432x288 with 1 Axes>"
      ]
     },
     "metadata": {
      "needs_background": "light"
     },
     "output_type": "display_data"
    }
   ],
   "source": [
    "sample_df = fuel_data.sample(n=50, random_state=4)\n",
    "sns.regplot(x=sample_df['utility_id_ferc1'], y=sample_df['fuel_cost_per_mmbtu'], fit_reg=False)"
   ]
  },
  {
   "cell_type": "code",
   "execution_count": 133,
   "metadata": {},
   "outputs": [
    {
     "data": {
      "text/plain": [
       "<matplotlib.axes._subplots.AxesSubplot at 0x207b92e9748>"
      ]
     },
     "execution_count": 133,
     "metadata": {},
     "output_type": "execute_result"
    },
    {
     "data": {
      "image/png": "[encoded data removed]",
      "text/plain": [
       "<Figure size 432x288 with 1 Axes>"
      ]
     },
     "metadata": {
      "needs_background": "light"
     },
     "output_type": "display_data"
    }
   ],
   "source": [
    "import seaborn as sns\n",
    "sns.boxplot(x='fuel_type_code_pudl', y='utility_id_ferc1', palette=['m','g'], data=fuel_data)\n"
   ]
  },
  {
   "cell_type": "code",
   "execution_count": 134,
   "metadata": {},
   "outputs": [
    {
     "data": {
      "text/plain": [
       "<matplotlib.axes._subplots.AxesSubplot at 0x207b6d95b88>"
      ]
     },
     "execution_count": 134,
     "metadata": {},
     "output_type": "execute_result"
    },
    {
     "data": {
      "image/png": "[encoded data removed]",
      "text/plain": [
       "<Figure size 432x288 with 1 Axes>"
      ]
     },
     "metadata": {
      "needs_background": "light"
     },
     "output_type": "display_data"
    }
   ],
   "source": [
    "sns.kdeplot(sample_df['fuel_cost_per_unit_burned'], shade=True, color='b')"
   ]
  },
  {
   "cell_type": "code",
   "execution_count": 157,
   "metadata": {},
   "outputs": [],
   "source": [
    "A =[1,2,3,4,5,6]\n",
    "B=[13,21,34]"
   ]
  },
  {
   "cell_type": "code",
   "execution_count": 162,
   "metadata": {},
   "outputs": [
    {
     "data": {
      "text/plain": [
       "array([[1, 0, 0],\n",
       "       [0, 1, 0],\n",
       "       [0, 0, 1]])"
      ]
     },
     "execution_count": 162,
     "metadata": {},
     "output_type": "execute_result"
    }
   ],
   "source": [
    "np.array([[1,0,0],[0,1,0],[0,0,1]])"
   ]
  }
 ],
 "metadata": {
  "kernelspec": {
   "display_name": "Python 3",
   "language": "python",
   "name": "python3"
  },
  "language_info": {
   "codemirror_mode": {
    "name": "ipython",
    "version": 3
   },
   "file_extension": ".py",
   "mimetype": "text/x-python",
   "name": "python",
   "nbconvert_exporter": "python",
   "pygments_lexer": "ipython3",
   "version": "3.7.4"
  }
 },
 "nbformat": 4,
 "nbformat_minor": 2
}
